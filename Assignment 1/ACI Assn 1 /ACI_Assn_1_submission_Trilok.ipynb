{
  "cells": [
    {
      "attachments": {},
      "cell_type": "markdown",
      "metadata": {
        "id": "MzZ4dJQYF7sH"
      },
      "source": [
        "# Artificial and Computational Intelligence Assignment 1"
      ]
    },
    {
      "attachments": {},
      "cell_type": "markdown",
      "metadata": {
        "id": "Fxb1aE9zF7sK"
      },
      "source": [
        "## Problem solving by Uninformed & Informed Search"
      ]
    },
    {
      "attachments": {},
      "cell_type": "markdown",
      "metadata": {
        "id": "h35jIBbCF7sK"
      },
      "source": [
        "List only the BITS (Name) of active contributors in this assignment:\n",
        "\n",
        "    --> Name: Trilok Sachin Chittala\n",
        "    --> BITS ID: 2022AC050732\n",
        "    --> Group Number: 159\n",
        "    --> Section: 1\n"
      ]
    },
    {
      "attachments": {},
      "cell_type": "markdown",
      "metadata": {},
      "source": [
        "## Problem: Rabbit Rescue Assignment"
      ]
    },
    {
      "attachments": {},
      "cell_type": "markdown",
      "metadata": {
        "id": "IL0QDMy3F7sL"
      },
      "source": [
        "### 1.\tEnvironment and Agent Description"
      ]
    },
    {
      "attachments": {},
      "cell_type": "markdown",
      "metadata": {
        "id": "RYwJPNLIF7sM"
      },
      "source": [
        "PEAS Description: Rabbit Rescue Agent\n",
        "\n",
        "Performance Measure: The performance measure for the Rabbit Rescue Agent is the successful and efficient rescue of the trapped rabbit. The agent aims to find the optimal path from the rabbit's current position to the safety of the goal position while minimizing the total cost of the path. The cost includes a fixed value of +3 for each cell transition. Additionally, the agent must consider penalties of +5 cost for moving towards a fire (F) cell, indicating a hazardous area, and +1 cost for moving towards a bush (B) cell, representing a potentially obstructed region. The optimal path is one that achieves the rescue mission while avoiding dangerous areas, navigating around obstacles like walls (W), and ensuring the rabbit's safety.\n",
        "\n",
        "Environment: The environment where the Rabbit Rescue Agent operates is represented as a grid. This grid contains various cell types, including walls (W) that restrict the agent's movement. The presence of fires (F) indicates hazardous zones, and moving towards these cells incurs a significant penalty. Bushes (B) indicate potentially obstructed areas, which also incur a smaller penalty. The agent's goal is to navigate through this dynamic and challenging environment to reach the trapped rabbit, guiding it safely to the goal cell.\n",
        "\n",
        "Actuator: The actuator in the Rabbit Rescue Agent is responsible for executing movements within the grid environment. It enables the agent to move in four directions: north, south, west, and east. By controlling the actuator, the agent can traverse the grid, explore different paths, and ultimately find the optimal route for rescuing the trapped rabbit while avoiding hazardous cells and minimizing the total cost.\n",
        "\n",
        "Sensor: The agent is equipped with sensors to perceive its surroundings and gather vital information for decision-making during the rescue mission. These sensors allow the agent to detect its current position within the grid, identify the cell types at its location (fire, bush, wall, or open cell), and calculate the Euclidean distance to the goal position using a heuristic function. The sensors provide essential feedback to guide the agent's pathfinding process, enabling it to make informed decisions about the safest and most efficient route to the goal.\n",
        "\n",
        "The Rabbit Rescue Agent's intelligent navigation, guided by its sensors and actuator, ensures that it can successfully navigate through the complex grid environment, avoid hazardous areas, and reach the goal position to rescue the trapped rabbit effectively. The agent's performance is measured by its ability to find the optimal path, ensuring the rabbit's safety, and minimizing the total cost of the rescue mission."
      ]
    },
    {
      "attachments": {},
      "cell_type": "markdown",
      "metadata": {
        "id": "XJ3cHp1IF7sM"
      },
      "source": [
        "Design the agent as PSA Agent(Problem Solving Agent)\n",
        "Clear Initial data structures to define the graph and variable declarations is expected\n",
        "IMPORTATANT: Write distinct code block as below"
      ]
    },
    {
      "cell_type": "code",
      "execution_count": 2,
      "metadata": {},
      "outputs": [],
      "source": [
        "#Importing Libraries\n",
        "%load_ext memory_profiler\n",
        "import heapq\n",
        "\n",
        "import random\n",
        "import math\n",
        "\n",
        "import time\n",
        "import resource\n",
        "from memory_profiler import profile"
      ]
    },
    {
      "attachments": {},
      "cell_type": "markdown",
      "metadata": {},
      "source": [
        "### DYNAMIC INPUT"
      ]
    },
    {
      "cell_type": "code",
      "execution_count": 14,
      "metadata": {
        "id": "XODwoWZ0F7sO"
      },
      "outputs": [],
      "source": [
        "#Code Block : Set Initial State (Must handle dynamic inputs)\n",
        "\n",
        "#Initial State of the Rabbit\n",
        "start = (0, 2)\n",
        "goal = (10, 7)\n",
        "\n",
        "#Code Block : Set the matrix for transition & cost (as relevant for the given problem)\n",
        "\n",
        "#Rabbit MAZE\n",
        "grid = [\n",
        "    ['B', '.', '.', '.', '.', 'W', '.', '.', '.', 'F'],\n",
        "    ['.', 'W', '.', '.', '.', 'W', 'W', 'W', 'W', '.'],\n",
        "    ['.', 'W', '.', '.', '.', 'W', '.', 'B', 'W', '.'],\n",
        "    ['.', 'W', 'W', '.', '.', 'W', 'W', '.', '.', '.'],\n",
        "    ['.', 'F', 'W', '.', '.', 'W', 'F', '.', '.', '.'],\n",
        "    ['.', 'W', 'W', '.', '.', 'W', 'W', '.', 'W', 'W'],\n",
        "    ['.', 'W', 'B', '.', '.', 'W', '.', '.', '.', 'B'],\n",
        "    ['W', 'W', '.', 'W', 'W', 'W', 'W', '.', 'W', '.'],\n",
        "    ['.', '.', '.', '.', '.', '.', 'W', '.', 'W', '.'],\n",
        "    ['.', '.', '.', 'W', 'W', '.', '.', '.', 'W', '.'],\n",
        "    ['.', '.', '.', 'W', '.', '.', '.', '.', 'W', '.']\n",
        "]\n",
        "\n",
        "\n",
        "#Action Space of the Rabbit\n",
        "movements = [(-1, 0), (1, 0), (0, -1), (0, 1)]\n",
        "\n",
        "#Defining Cost Values\n",
        "ACTION_COST = 3 #Cost for taking an action\n",
        "BUSH_COST = 1 #Additional cost for Bush\n",
        "FIRE_COST = 3 #Additional cost for Fire"
      ]
    },
    {
      "cell_type": "code",
      "execution_count": 15,
      "metadata": {
        "id": "ro24Gaj7F7sO"
      },
      "outputs": [],
      "source": [
        "#Code Block : Write function to design the Transition Model/Successor function. Ideally this would be called while search algorithms are implemented\n",
        "def heuristic(position):\n",
        "    # Calculate Euclidean distance from the current position to the goal position\n",
        "    return math.sqrt((position[0] - goal[0]) ** 2 + (position[1] - goal[1]) ** 2)"
      ]
    },
    {
      "attachments": {},
      "cell_type": "markdown",
      "metadata": {
        "id": "Z4QwDeX5F7sO"
      },
      "source": [
        "### 2.\tDefinition of Algorithm 1 (A* Search)"
      ]
    },
    {
      "cell_type": "code",
      "execution_count": 16,
      "metadata": {
        "id": "zD_EPCHWF7sO"
      },
      "outputs": [],
      "source": [
        "#Code Block : Function for algorithm 1 implementation\n",
        "#Code block : Write fucntion to handle goal test (Must handle dynamic inputs). Ideally this would be called while search algorithms are implemented\n",
        "\n",
        "#Function block for A star search\n",
        "def a_star(grid, start, goal):\n",
        "    \n",
        "    open_list = []\n",
        "    closed_set = set()\n",
        "    heapq.heappush(open_list, (0, start))  # Priority queue with total cost and position\n",
        "\n",
        "    # Initialize dictionaries to store cost and parent information\n",
        "    cost_so_far = {start: 0}\n",
        "    parent = {start: None}\n",
        "\n",
        "    while open_list:\n",
        "        _, current = heapq.heappop(open_list)\n",
        "        \n",
        "\n",
        "        if current == goal:\n",
        "            # Path found, trace back the path\n",
        "            path = []\n",
        "            while current is not None:\n",
        "                path.append(current)\n",
        "                current = parent[current]\n",
        "            path.reverse()\n",
        "\n",
        "            updated_grid = grid.copy()\n",
        "            for position in path:\n",
        "                updated_grid[position[0]][position[1]] = 'P'\n",
        "                \n",
        "            return path, updated_grid, cost_so_far\n",
        "\n",
        "        closed_set.add(current)\n",
        "\n",
        "        for move in movements:\n",
        "            new_position = (current[0] + move[0], current[1] + move[1])\n",
        "\n",
        "            if 0 <= new_position[0] < len(grid) and 0 <= new_position[1] < len(grid[0]):\n",
        "                if grid[new_position[0]][new_position[1]] == 'W' or new_position in closed_set: \n",
        "                    \n",
        "                    continue\n",
        "\n",
        "                if grid[new_position[0]][new_position[1]] == 'F':\n",
        "                    new_cost = cost_so_far[current] + FIRE_COST + ACTION_COST\n",
        "                elif grid[new_position[0]][new_position[1]] == 'B':\n",
        "                    new_cost = cost_so_far[current] + BUSH_COST + ACTION_COST\n",
        "                else:\n",
        "                    new_cost = cost_so_far[current] + ACTION_COST\n",
        "\n",
        "                if new_position not in cost_so_far or new_cost < cost_so_far[new_position]:\n",
        "                    cost_so_far[new_position] = new_cost\n",
        "                    total_cost = new_cost + heuristic(new_position)\n",
        "                    heapq.heappush(open_list, (total_cost, new_position))\n",
        "                    parent[new_position] = current\n",
        "\n",
        "    return None  # No path found\n",
        "\n"
      ]
    },
    {
      "attachments": {},
      "cell_type": "markdown",
      "metadata": {
        "id": "KnbdDl6HF7sO"
      },
      "source": [
        "### 3.\tDefinition of Algorithm 2 (Random Restart Hill Climbing Algorithm)"
      ]
    },
    {
      "cell_type": "code",
      "execution_count": 17,
      "metadata": {
        "id": "3HYh7-eJF7sP"
      },
      "outputs": [],
      "source": [
        "#Code Block : Function for algorithm 2 implementation\n",
        "\n",
        "##Function Block for Random Restart Hill Climbing\n",
        "\n",
        "def random_restart_hill_climbing(grid, start, goal, max_iterations=100):\n",
        "    best_path = None\n",
        "    best_cost = float('inf')\n",
        "\n",
        "    current = start\n",
        "    path = [current]\n",
        "    cost = 0\n",
        "\n",
        "    closed_set = set()\n",
        "    updated_grid = grid.copy()\n",
        "\n",
        "    for i in range(max_iterations):\n",
        "        \n",
        "        j = 0\n",
        "        while current != goal:\n",
        "\n",
        "            closed_set.add(current)\n",
        "            next_moves = []\n",
        "            for move in movements:\n",
        "                new_position = (current[0] + move[0], current[1] + move[1])\n",
        "\n",
        "                if 0 <= new_position[0] < len(grid) and 0 <= new_position[1] < len(grid[0]):\n",
        "                    if grid[new_position[0]][new_position[1]] == 'W' or new_position in closed_set:\n",
        "                        \n",
        "                        continue\n",
        "\n",
        "                    if grid[new_position[0]][new_position[1]] == 'F':\n",
        "                        new_cost = cost + FIRE_COST + ACTION_COST\n",
        "                        total_cost = new_cost + heuristic(new_position)\n",
        "                        \n",
        "                    elif grid[new_position[0]][new_position[1]] == 'B':\n",
        "                        new_cost = cost + ACTION_COST + BUSH_COST\n",
        "                        total_cost = new_cost + heuristic(new_position)\n",
        "                        \n",
        "                    else:\n",
        "                        new_cost = cost + ACTION_COST\n",
        "                        total_cost = new_cost + heuristic(new_position)\n",
        "                        \n",
        "\n",
        "                    next_moves.append((new_position, total_cost))\n",
        "            \n",
        "\n",
        "\n",
        "            # print(i, current, next_moves)\n",
        "            if not next_moves:\n",
        "                # No valid moves from the current position, restart\n",
        "                print(i, next_moves, 'Agent Stuck, No valid moves from the current position, restarting')\n",
        "                break\n",
        "\n",
        "        \n",
        "\n",
        "            next_moves.sort(key=lambda x: x[1])  # Sort moves by cost\n",
        "            current, cost = next_moves[0]  # Move to the best neighbor\n",
        "            path.append(current)\n",
        "\n",
        "            updated_grid[current[0]][current[1]] = 'P'\n",
        "\n",
        "            \n",
        "\n",
        "            if current == goal and cost < best_cost:\n",
        "                # Found a better path\n",
        "                best_path = path\n",
        "                best_cost = cost\n",
        "                break\n",
        "            \n",
        "    return best_path, updated_grid, best_cost"
      ]
    },
    {
      "attachments": {},
      "cell_type": "markdown",
      "metadata": {
        "id": "xsfOP81lF7sP"
      },
      "source": [
        "### 4.\tCalling the search algorithms\n"
      ]
    },
    {
      "cell_type": "code",
      "execution_count": 18,
      "metadata": {
        "id": "Og5zI9thF7sP"
      },
      "outputs": [
        {
          "name": "stdout",
          "output_type": "stream",
          "text": [
            "A* Search Algorithm Results\n",
            "\n",
            "Optimal Path:\n",
            "Position: (0, 2) Cost-> 0\n",
            "Position: (1, 2) Cost-> 3\n",
            "Position: (2, 2) Cost-> 6\n",
            "Position: (2, 3) Cost-> 9\n",
            "Position: (3, 3) Cost-> 12\n",
            "Position: (4, 3) Cost-> 15\n",
            "Position: (5, 3) Cost-> 18\n",
            "Position: (6, 3) Cost-> 21\n",
            "Position: (6, 2) Cost-> 25\n",
            "Position: (7, 2) Cost-> 28\n",
            "Position: (8, 2) Cost-> 31\n",
            "Position: (8, 3) Cost-> 34\n",
            "Position: (8, 4) Cost-> 37\n",
            "Position: (8, 5) Cost-> 40\n",
            "Position: (9, 5) Cost-> 43\n",
            "Position: (9, 6) Cost-> 46\n",
            "Position: (9, 7) Cost-> 49\n",
            "Position: (10, 7) Cost-> 52\n",
            "Updated Grid:\n"
          ]
        },
        {
          "data": {
            "text/plain": [
              "[['B', '.', 'P', '.', '.', 'W', '.', '.', '.', 'F'],\n",
              " ['.', 'W', 'P', '.', '.', 'W', 'W', 'W', 'W', '.'],\n",
              " ['.', 'W', 'P', 'P', '.', 'W', '.', 'B', 'W', '.'],\n",
              " ['.', 'W', 'W', 'P', '.', 'W', 'W', '.', '.', '.'],\n",
              " ['.', 'F', 'W', 'P', '.', 'W', 'F', '.', '.', '.'],\n",
              " ['.', 'W', 'W', 'P', '.', 'W', 'W', '.', 'W', 'W'],\n",
              " ['.', 'W', 'P', 'P', '.', 'W', '.', '.', '.', 'B'],\n",
              " ['W', 'W', 'P', 'W', 'W', 'W', 'W', '.', 'W', '.'],\n",
              " ['.', '.', 'P', 'P', 'P', 'P', 'W', '.', 'W', '.'],\n",
              " ['.', '.', '.', 'W', 'W', 'P', 'P', 'P', 'W', '.'],\n",
              " ['.', '.', '.', 'W', '.', '.', '.', 'P', 'W', '.']]"
            ]
          },
          "metadata": {},
          "output_type": "display_data"
        },
        {
          "name": "stdout",
          "output_type": "stream",
          "text": [
            "Path Cost: 52\n"
          ]
        }
      ],
      "source": [
        "#Invoke algorithm 1 (Should Print the solution, path, cost etc., (As mentioned in the problem))\n",
        "# Find the optimal path Using A Star\n",
        "results = a_star(grid, start, goal)\n",
        "\n",
        "print('A* Search Algorithm Results\\n')\n",
        "if results:\n",
        "    path, upd_grid, cost_so_far = results\n",
        "    print(\"Optimal Path:\")\n",
        "    for position in path:\n",
        "        print('Position:', position, 'Cost->', cost_so_far[position])\n",
        "\n",
        "    print(\"Updated Grid:\")\n",
        "    display(upd_grid)\n",
        "\n",
        "    print(\"Path Cost:\", cost_so_far[goal])\n",
        "else:\n",
        "    print(\"No path found.\")"
      ]
    },
    {
      "cell_type": "code",
      "execution_count": 8,
      "metadata": {
        "id": "u3MJeA6eF7sP"
      },
      "outputs": [
        {
          "name": "stdout",
          "output_type": "stream",
          "text": [
            "Random Restart Hill Climbing Algorithm Results\n",
            "\n",
            "Optimal Path:\n",
            "Position: (0, 2) Cost-> 0\n",
            "Position: (1, 2) Cost-> 3\n",
            "Position: (2, 2) Cost-> 6\n",
            "Position: (2, 3) Cost-> 9\n",
            "Position: (3, 3) Cost-> 12\n",
            "Position: (4, 3) Cost-> 15\n",
            "Position: (5, 3) Cost-> 18\n",
            "Position: (6, 3) Cost-> 21\n",
            "Position: (6, 4) Cost-> 24\n",
            "Position: (5, 4) Cost-> 21\n",
            "Position: (4, 4) Cost-> 18\n",
            "Position: (3, 4) Cost-> 15\n",
            "Position: (2, 4) Cost-> 12\n",
            "Position: (2, 5) Cost-> 15\n",
            "Position: (2, 6) Cost-> 18\n",
            "Position: (2, 7) Cost-> 22\n",
            "Position: (3, 7) Cost-> 25\n",
            "Position: (4, 7) Cost-> 28\n",
            "Position: (5, 7) Cost-> 31\n",
            "Position: (6, 7) Cost-> 34\n",
            "Position: (7, 7) Cost-> 37\n",
            "Position: (8, 7) Cost-> 40\n",
            "Position: (9, 7) Cost-> 43\n",
            "Position: (10, 7) Cost-> 46\n",
            "Updated Grid:\n"
          ]
        },
        {
          "data": {
            "text/plain": [
              "[['B', '.', 'P', '.', '.', 'W', '.', '.', '.', 'F'],\n",
              " ['.', 'W', 'P', '.', '.', 'W', 'W', 'W', 'W', '.'],\n",
              " ['.', 'W', 'P', 'P', 'P', 'P', 'P', 'P', 'W', '.'],\n",
              " ['.', 'W', 'W', 'P', 'P', 'W', 'W', 'P', '.', '.'],\n",
              " ['.', 'F', 'W', 'P', 'P', 'W', 'F', 'P', '.', '.'],\n",
              " ['.', 'W', 'W', 'P', 'P', 'W', 'W', 'P', 'W', 'W'],\n",
              " ['.', 'W', 'B', 'P', 'P', 'W', '.', 'P', '.', 'B'],\n",
              " ['W', 'W', '.', 'W', 'W', 'W', 'W', 'P', 'W', '.'],\n",
              " ['.', '.', '.', '.', '.', '.', 'W', 'P', 'W', '.'],\n",
              " ['.', '.', '.', 'W', 'W', '.', '.', 'P', 'W', '.'],\n",
              " ['.', '.', '.', 'W', '.', '.', '.', 'P', 'W', '.']]"
            ]
          },
          "metadata": {},
          "output_type": "display_data"
        }
      ],
      "source": [
        "#Invoke algorithm 2 (Should Print the solution, path, cost etc., (As mentioned in the problem))\n",
        "# Find the optimal path using Random Restart Hill Climbing\n",
        "\n",
        "path, updated_grid, best_cost = random_restart_hill_climbing(grid, start, goal)\n",
        "\n",
        "print('Random Restart Hill Climbing Algorithm Results\\n')\n",
        "if path:\n",
        "    print(\"Optimal Path:\")\n",
        "    for position in path:\n",
        "        print('Position:', position, 'Cost->', cost_so_far[position])\n",
        "\n",
        "    print(\"Updated Grid:\")\n",
        "    display(updated_grid)\n",
        "\n",
        "else:\n",
        "    print(\"No path found.\")"
      ]
    },
    {
      "attachments": {},
      "cell_type": "markdown",
      "metadata": {
        "id": "TOU3Rem6F7sQ"
      },
      "source": [
        "### 5.\tComparitive Analysis"
      ]
    },
    {
      "cell_type": "code",
      "execution_count": 17,
      "metadata": {
        "id": "HG6fWwiIF7sQ"
      },
      "outputs": [
        {
          "name": "stdout",
          "output_type": "stream",
          "text": [
            "Time and Space Complexity for A* Algorithm:\n",
            "Space Utilized:\n",
            "peak memory: 63.49 MiB, increment: 1.90 MiB\n",
            "Time Complexity: 0.000282 seconds\n"
          ]
        }
      ],
      "source": [
        "# Print the time and space complexity of the algorithms\n",
        "print(\"Time and Space Complexity for A* Algorithm:\")\n",
        "print('Space Utilized:')\n",
        "\n",
        "%memit a_star(grid, start, goal)\n",
        "\n",
        "# Time complexity measurement for A* algorithm\n",
        "start_time = time.time()\n",
        "a_star_path = a_star(grid, start, goal)\n",
        "end_time = time.time()\n",
        "a_star_time = end_time - start_time\n",
        "\n",
        "\n",
        "print(f\"Time Complexity: {a_star_time:.6f} seconds\")\n",
        "\n"
      ]
    },
    {
      "cell_type": "code",
      "execution_count": 18,
      "metadata": {
        "id": "xMButLKCF7sQ"
      },
      "outputs": [
        {
          "name": "stdout",
          "output_type": "stream",
          "text": [
            "Time and Space Complexity for Random Restart Hill Climbing Algorithm:\n",
            "Space Utilized:\n",
            "peak memory: 62.98 MiB, increment: -0.79 MiB\n",
            "Time Complexity: 0.000176 seconds\n"
          ]
        }
      ],
      "source": [
        "#Code Block : Print the Time & Space complexity of algorithm 2\n",
        "# Time and space complexity measurement for Random Restart Hill Climbing algorithm\n",
        "\n",
        "print(\"Time and Space Complexity for Random Restart Hill Climbing Algorithm:\")\n",
        "print('Space Utilized:')\n",
        "%memit rrhc_path = random_restart_hill_climbing(grid, start, goal, max_iterations=1000)\n",
        "\n",
        "start_time = time.time()\n",
        "rrhc_path = random_restart_hill_climbing(grid, start, goal, max_iterations=1000)\n",
        "end_time = time.time()\n",
        "rrhc_time = end_time - start_time\n",
        "\n",
        "print(f\"Time Complexity: {rrhc_time:.6f} seconds\")\n"
      ]
    },
    {
      "attachments": {},
      "cell_type": "markdown",
      "metadata": {
        "id": "si483-zoF7sQ"
      },
      "source": [
        "### Comparison :\n",
        "\n",
        "--The A* algorithm has a more predictable time complexity (in terms of search depth) and often performs efficiently for well-designed heuristic functions.\n",
        "\n",
        "--The Random Restart Hill Climbing algorithm does not have a precise time complexity but can benefit from random restarts to explore different paths and escape local optima.\n",
        "\n",
        "--The A* algorithm usually finds the optimal path if the heuristic is admissible and consistent, but it may require more time and memory for large search spaces.\n",
        "\n",
        "--The Random Restart Hill Climbing algorithm can provide approximate solutions efficiently, but the quality of the result can vary based on the number of restarts and the path evaluation function.\n",
        "\n",
        "--In terms of space complexity, A* requires more memory due to the need to maintain the open and closed lists, while the Random Restart Hill Climbing algorithm generally consumes less memory.\n",
        "\n",
        "--Overall, the A* algorithm is suitable when finding the optimal path is crucial, and sufficient memory is available. On the other hand, the Random Restart Hill Climbing algorithm is suitable when fast execution and approximate solutions are acceptable, especially in scenarios with limited memory resources."
      ]
    },
    {
      "cell_type": "markdown",
      "metadata": {},
      "source": []
    }
  ],
  "metadata": {
    "colab": {
      "provenance": []
    },
    "kernelspec": {
      "display_name": "base",
      "language": "python",
      "name": "python3"
    },
    "language_info": {
      "codemirror_mode": {
        "name": "ipython",
        "version": 3
      },
      "file_extension": ".py",
      "mimetype": "text/x-python",
      "name": "python",
      "nbconvert_exporter": "python",
      "pygments_lexer": "ipython3",
      "version": "3.9.7"
    }
  },
  "nbformat": 4,
  "nbformat_minor": 0
}
